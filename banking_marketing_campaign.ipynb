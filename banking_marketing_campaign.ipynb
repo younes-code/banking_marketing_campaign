{
  "nbformat": 4,
  "nbformat_minor": 0,
  "metadata": {
    "colab": {
      "name": "banking marketing campaign.ipynb",
      "provenance": [],
      "collapsed_sections": [],
      "authorship_tag": "ABX9TyMjHUqEMlRyRHxP75g5DvaT",
      "include_colab_link": true
    },
    "kernelspec": {
      "name": "python3",
      "display_name": "Python 3"
    },
    "language_info": {
      "name": "python"
    }
  },
  "cells": [
    {
      "cell_type": "markdown",
      "metadata": {
        "id": "view-in-github",
        "colab_type": "text"
      },
      "source": [
        "<a href=\"https://colab.research.google.com/github/younes-code/banking_marketing_campaign/blob/main/banking_marketing_campaign.ipynb\" target=\"_parent\"><img src=\"https://colab.research.google.com/assets/colab-badge.svg\" alt=\"Open In Colab\"/></a>"
      ]
    },
    {
      "cell_type": "code",
      "metadata": {
        "id": "ohgDyNKj5lhd"
      },
      "source": [
        "import pandas as pd\n",
        "import numpy as np\n",
        "\n",
        "import matplotlib.pyplot as plt\n",
        "import seaborn as sns\n",
        "\n",
        "from sklearn.model_selection import train_test_split\n",
        "from sklearn.preprocessing import LabelEncoder\n",
        "from sklearn import preprocessing\n",
        "from sklearn import model_selection\n",
        "\n",
        "\n",
        "from keras.models import Sequential\n",
        "from keras.layers import Dense\n",
        "from tensorflow.keras.utils import to_categorical\n",
        "import tensorflow as tf\n"
      ],
      "execution_count": 51,
      "outputs": []
    },
    {
      "cell_type": "code",
      "metadata": {
        "id": "r0LJ5GbBJmsA"
      },
      "source": [
        "\n",
        "df=pd.read_csv('bank.csv')"
      ],
      "execution_count": 52,
      "outputs": []
    },
    {
      "cell_type": "code",
      "metadata": {
        "colab": {
          "base_uri": "https://localhost:8080/"
        },
        "id": "6qTOX6O12Jee",
        "outputId": "8e71669a-86cf-49d3-a370-f482b6b0b0bb"
      },
      "source": [
        "# number of rows adn columns in dataset\n",
        "df.shape"
      ],
      "execution_count": 53,
      "outputs": [
        {
          "output_type": "execute_result",
          "data": {
            "text/plain": [
              "(11162, 17)"
            ]
          },
          "metadata": {},
          "execution_count": 53
        }
      ]
    },
    {
      "cell_type": "code",
      "metadata": {
        "colab": {
          "base_uri": "https://localhost:8080/",
          "height": 204
        },
        "id": "Fd0uB_8WJsET",
        "outputId": "9e51dbb2-5968-478a-bb46-ff7f7d0e4d11"
      },
      "source": [
        "df.head()"
      ],
      "execution_count": 54,
      "outputs": [
        {
          "output_type": "execute_result",
          "data": {
            "text/html": [
              "<div>\n",
              "<style scoped>\n",
              "    .dataframe tbody tr th:only-of-type {\n",
              "        vertical-align: middle;\n",
              "    }\n",
              "\n",
              "    .dataframe tbody tr th {\n",
              "        vertical-align: top;\n",
              "    }\n",
              "\n",
              "    .dataframe thead th {\n",
              "        text-align: right;\n",
              "    }\n",
              "</style>\n",
              "<table border=\"1\" class=\"dataframe\">\n",
              "  <thead>\n",
              "    <tr style=\"text-align: right;\">\n",
              "      <th></th>\n",
              "      <th>age</th>\n",
              "      <th>job</th>\n",
              "      <th>marital</th>\n",
              "      <th>education</th>\n",
              "      <th>default</th>\n",
              "      <th>balance</th>\n",
              "      <th>housing</th>\n",
              "      <th>loan</th>\n",
              "      <th>contact</th>\n",
              "      <th>day</th>\n",
              "      <th>month</th>\n",
              "      <th>duration</th>\n",
              "      <th>campaign</th>\n",
              "      <th>pdays</th>\n",
              "      <th>previous</th>\n",
              "      <th>poutcome</th>\n",
              "      <th>deposit</th>\n",
              "    </tr>\n",
              "  </thead>\n",
              "  <tbody>\n",
              "    <tr>\n",
              "      <th>0</th>\n",
              "      <td>59</td>\n",
              "      <td>admin.</td>\n",
              "      <td>married</td>\n",
              "      <td>secondary</td>\n",
              "      <td>no</td>\n",
              "      <td>2343</td>\n",
              "      <td>yes</td>\n",
              "      <td>no</td>\n",
              "      <td>unknown</td>\n",
              "      <td>5</td>\n",
              "      <td>may</td>\n",
              "      <td>1042</td>\n",
              "      <td>1</td>\n",
              "      <td>-1</td>\n",
              "      <td>0</td>\n",
              "      <td>unknown</td>\n",
              "      <td>yes</td>\n",
              "    </tr>\n",
              "    <tr>\n",
              "      <th>1</th>\n",
              "      <td>56</td>\n",
              "      <td>admin.</td>\n",
              "      <td>married</td>\n",
              "      <td>secondary</td>\n",
              "      <td>no</td>\n",
              "      <td>45</td>\n",
              "      <td>no</td>\n",
              "      <td>no</td>\n",
              "      <td>unknown</td>\n",
              "      <td>5</td>\n",
              "      <td>may</td>\n",
              "      <td>1467</td>\n",
              "      <td>1</td>\n",
              "      <td>-1</td>\n",
              "      <td>0</td>\n",
              "      <td>unknown</td>\n",
              "      <td>yes</td>\n",
              "    </tr>\n",
              "    <tr>\n",
              "      <th>2</th>\n",
              "      <td>41</td>\n",
              "      <td>technician</td>\n",
              "      <td>married</td>\n",
              "      <td>secondary</td>\n",
              "      <td>no</td>\n",
              "      <td>1270</td>\n",
              "      <td>yes</td>\n",
              "      <td>no</td>\n",
              "      <td>unknown</td>\n",
              "      <td>5</td>\n",
              "      <td>may</td>\n",
              "      <td>1389</td>\n",
              "      <td>1</td>\n",
              "      <td>-1</td>\n",
              "      <td>0</td>\n",
              "      <td>unknown</td>\n",
              "      <td>yes</td>\n",
              "    </tr>\n",
              "    <tr>\n",
              "      <th>3</th>\n",
              "      <td>55</td>\n",
              "      <td>services</td>\n",
              "      <td>married</td>\n",
              "      <td>secondary</td>\n",
              "      <td>no</td>\n",
              "      <td>2476</td>\n",
              "      <td>yes</td>\n",
              "      <td>no</td>\n",
              "      <td>unknown</td>\n",
              "      <td>5</td>\n",
              "      <td>may</td>\n",
              "      <td>579</td>\n",
              "      <td>1</td>\n",
              "      <td>-1</td>\n",
              "      <td>0</td>\n",
              "      <td>unknown</td>\n",
              "      <td>yes</td>\n",
              "    </tr>\n",
              "    <tr>\n",
              "      <th>4</th>\n",
              "      <td>54</td>\n",
              "      <td>admin.</td>\n",
              "      <td>married</td>\n",
              "      <td>tertiary</td>\n",
              "      <td>no</td>\n",
              "      <td>184</td>\n",
              "      <td>no</td>\n",
              "      <td>no</td>\n",
              "      <td>unknown</td>\n",
              "      <td>5</td>\n",
              "      <td>may</td>\n",
              "      <td>673</td>\n",
              "      <td>2</td>\n",
              "      <td>-1</td>\n",
              "      <td>0</td>\n",
              "      <td>unknown</td>\n",
              "      <td>yes</td>\n",
              "    </tr>\n",
              "  </tbody>\n",
              "</table>\n",
              "</div>"
            ],
            "text/plain": [
              "   age         job  marital  education  ... pdays  previous poutcome deposit\n",
              "0   59      admin.  married  secondary  ...    -1         0  unknown     yes\n",
              "1   56      admin.  married  secondary  ...    -1         0  unknown     yes\n",
              "2   41  technician  married  secondary  ...    -1         0  unknown     yes\n",
              "3   55    services  married  secondary  ...    -1         0  unknown     yes\n",
              "4   54      admin.  married   tertiary  ...    -1         0  unknown     yes\n",
              "\n",
              "[5 rows x 17 columns]"
            ]
          },
          "metadata": {},
          "execution_count": 54
        }
      ]
    },
    {
      "cell_type": "code",
      "metadata": {
        "colab": {
          "base_uri": "https://localhost:8080/"
        },
        "id": "lrEMu06pJwX9",
        "outputId": "ef690a5e-1656-4eda-8dc4-f3ecf4646260"
      },
      "source": [
        "df.info()"
      ],
      "execution_count": 55,
      "outputs": [
        {
          "output_type": "stream",
          "text": [
            "<class 'pandas.core.frame.DataFrame'>\n",
            "RangeIndex: 11162 entries, 0 to 11161\n",
            "Data columns (total 17 columns):\n",
            " #   Column     Non-Null Count  Dtype \n",
            "---  ------     --------------  ----- \n",
            " 0   age        11162 non-null  int64 \n",
            " 1   job        11162 non-null  object\n",
            " 2   marital    11162 non-null  object\n",
            " 3   education  11162 non-null  object\n",
            " 4   default    11162 non-null  object\n",
            " 5   balance    11162 non-null  int64 \n",
            " 6   housing    11162 non-null  object\n",
            " 7   loan       11162 non-null  object\n",
            " 8   contact    11162 non-null  object\n",
            " 9   day        11162 non-null  int64 \n",
            " 10  month      11162 non-null  object\n",
            " 11  duration   11162 non-null  int64 \n",
            " 12  campaign   11162 non-null  int64 \n",
            " 13  pdays      11162 non-null  int64 \n",
            " 14  previous   11162 non-null  int64 \n",
            " 15  poutcome   11162 non-null  object\n",
            " 16  deposit    11162 non-null  object\n",
            "dtypes: int64(7), object(10)\n",
            "memory usage: 1.4+ MB\n"
          ],
          "name": "stdout"
        }
      ]
    },
    {
      "cell_type": "code",
      "metadata": {
        "id": "Srp5NFRW2eSj",
        "colab": {
          "base_uri": "https://localhost:8080/"
        },
        "outputId": "30daaf9c-3d85-44a9-ada8-0cd4fb1bc7e0"
      },
      "source": [
        "# missing values\n",
        "df.isnull().sum().sum()"
      ],
      "execution_count": 56,
      "outputs": [
        {
          "output_type": "execute_result",
          "data": {
            "text/plain": [
              "0"
            ]
          },
          "metadata": {},
          "execution_count": 56
        }
      ]
    },
    {
      "cell_type": "code",
      "metadata": {
        "id": "99w2UFAzL_xx",
        "colab": {
          "base_uri": "https://localhost:8080/",
          "height": 919
        },
        "outputId": "0af59bdf-5782-4e28-b94f-9dbeafd0fdfa"
      },
      "source": [
        "# Categorical columns exploration\n",
        "cat_columns = ['job', 'marital', 'education', 'default', 'housing', 'loan', 'contact','month','poutcome']\n",
        "\n",
        "fig, axs = plt.subplots(3, 3, sharex=False, sharey=False, figsize=(20, 15))\n",
        "\n",
        "counter = 0\n",
        "for cat_column in cat_columns:\n",
        "    value_counts = df[cat_column].value_counts()\n",
        "    \n",
        "    trace_x = counter // 3\n",
        "    trace_y = counter % 3\n",
        "    x_pos = np.arange(0, len(value_counts))\n",
        "    \n",
        "    axs[trace_x, trace_y].bar(x_pos, value_counts.values, tick_label = value_counts.index)\n",
        "    \n",
        "    axs[trace_x, trace_y].set_title(cat_column)\n",
        "    \n",
        "    for tick in axs[trace_x, trace_y].get_xticklabels():\n",
        "        tick.set_rotation(90)\n",
        "    \n",
        "    counter += 1\n",
        "\n",
        "plt.show()"
      ],
      "execution_count": 57,
      "outputs": [
        {
          "output_type": "display_data",
          "data": {
            "image/png": "[encoded data removed]",
            "text/plain": [
              "<Figure size 1440x1080 with 9 Axes>"
            ]
          },
          "metadata": {
            "needs_background": "light"
          }
        }
      ]
    },
    {
      "cell_type": "code",
      "metadata": {
        "id": "IjVSQCLQ33Dz",
        "colab": {
          "base_uri": "https://localhost:8080/",
          "height": 879
        },
        "outputId": "47d871d1-4240-4659-8ade-6c36c21fc894"
      },
      "source": [
        "# Numerical columns exploration\n",
        "\n",
        "num_columns = ['balance', 'day','duration', 'campaign', 'pdays', 'previous']\n",
        "\n",
        "fig, axs = plt.subplots(2, 3, sharex=False, sharey=False, figsize=(20, 15))\n",
        "\n",
        "counter = 0\n",
        "for num_column in num_columns:\n",
        "    \n",
        "    trace_x = counter // 3\n",
        "    trace_y = counter % 3\n",
        "    \n",
        "    axs[trace_x, trace_y].hist(df[num_column])\n",
        "    \n",
        "    axs[trace_x, trace_y].set_title(num_column)\n",
        "    \n",
        "    counter += 1\n",
        "\n",
        "plt.show()"
      ],
      "execution_count": 58,
      "outputs": [
        {
          "output_type": "display_data",
          "data": {
            "image/png": "[encoded data removed]",
            "text/plain": [
              "<Figure size 1440x1080 with 6 Axes>"
            ]
          },
          "metadata": {
            "needs_background": "light"
          }
        }
      ]
    },
    {
      "cell_type": "code",
      "metadata": {
        "colab": {
          "base_uri": "https://localhost:8080/",
          "height": 306
        },
        "id": "14YEbk3E7CoF",
        "outputId": "88796f0d-f755-4962-9db7-0696bc7a9968"
      },
      "source": [
        "#Analysis of the response column\n",
        "\n",
        "value_counts = df['deposit'].value_counts()\n",
        "\n",
        "value_counts.plot.bar(title = 'Deposit value counts')"
      ],
      "execution_count": 59,
      "outputs": [
        {
          "output_type": "execute_result",
          "data": {
            "text/plain": [
              "<matplotlib.axes._subplots.AxesSubplot at 0x7f46b24bb210>"
            ]
          },
          "metadata": {},
          "execution_count": 59
        },
        {
          "output_type": "display_data",
          "data": {
            "image/png": "[encoded data removed]",
            "text/plain": [
              "<Figure size 432x288 with 1 Axes>"
            ]
          },
          "metadata": {
            "needs_background": "light"
          }
        }
      ]
    },
    {
      "cell_type": "code",
      "metadata": {
        "colab": {
          "base_uri": "https://localhost:8080/",
          "height": 204
        },
        "id": "2lDtsdxoCyC4",
        "outputId": "5be259a1-06fb-4c29-a42f-b4098687d16d"
      },
      "source": [
        "df.head()"
      ],
      "execution_count": 60,
      "outputs": [
        {
          "output_type": "execute_result",
          "data": {
            "text/html": [
              "<div>\n",
              "<style scoped>\n",
              "    .dataframe tbody tr th:only-of-type {\n",
              "        vertical-align: middle;\n",
              "    }\n",
              "\n",
              "    .dataframe tbody tr th {\n",
              "        vertical-align: top;\n",
              "    }\n",
              "\n",
              "    .dataframe thead th {\n",
              "        text-align: right;\n",
              "    }\n",
              "</style>\n",
              "<table border=\"1\" class=\"dataframe\">\n",
              "  <thead>\n",
              "    <tr style=\"text-align: right;\">\n",
              "      <th></th>\n",
              "      <th>age</th>\n",
              "      <th>job</th>\n",
              "      <th>marital</th>\n",
              "      <th>education</th>\n",
              "      <th>default</th>\n",
              "      <th>balance</th>\n",
              "      <th>housing</th>\n",
              "      <th>loan</th>\n",
              "      <th>contact</th>\n",
              "      <th>day</th>\n",
              "      <th>month</th>\n",
              "      <th>duration</th>\n",
              "      <th>campaign</th>\n",
              "      <th>pdays</th>\n",
              "      <th>previous</th>\n",
              "      <th>poutcome</th>\n",
              "      <th>deposit</th>\n",
              "    </tr>\n",
              "  </thead>\n",
              "  <tbody>\n",
              "    <tr>\n",
              "      <th>0</th>\n",
              "      <td>59</td>\n",
              "      <td>admin.</td>\n",
              "      <td>married</td>\n",
              "      <td>secondary</td>\n",
              "      <td>no</td>\n",
              "      <td>2343</td>\n",
              "      <td>yes</td>\n",
              "      <td>no</td>\n",
              "      <td>unknown</td>\n",
              "      <td>5</td>\n",
              "      <td>may</td>\n",
              "      <td>1042</td>\n",
              "      <td>1</td>\n",
              "      <td>-1</td>\n",
              "      <td>0</td>\n",
              "      <td>unknown</td>\n",
              "      <td>yes</td>\n",
              "    </tr>\n",
              "    <tr>\n",
              "      <th>1</th>\n",
              "      <td>56</td>\n",
              "      <td>admin.</td>\n",
              "      <td>married</td>\n",
              "      <td>secondary</td>\n",
              "      <td>no</td>\n",
              "      <td>45</td>\n",
              "      <td>no</td>\n",
              "      <td>no</td>\n",
              "      <td>unknown</td>\n",
              "      <td>5</td>\n",
              "      <td>may</td>\n",
              "      <td>1467</td>\n",
              "      <td>1</td>\n",
              "      <td>-1</td>\n",
              "      <td>0</td>\n",
              "      <td>unknown</td>\n",
              "      <td>yes</td>\n",
              "    </tr>\n",
              "    <tr>\n",
              "      <th>2</th>\n",
              "      <td>41</td>\n",
              "      <td>technician</td>\n",
              "      <td>married</td>\n",
              "      <td>secondary</td>\n",
              "      <td>no</td>\n",
              "      <td>1270</td>\n",
              "      <td>yes</td>\n",
              "      <td>no</td>\n",
              "      <td>unknown</td>\n",
              "      <td>5</td>\n",
              "      <td>may</td>\n",
              "      <td>1389</td>\n",
              "      <td>1</td>\n",
              "      <td>-1</td>\n",
              "      <td>0</td>\n",
              "      <td>unknown</td>\n",
              "      <td>yes</td>\n",
              "    </tr>\n",
              "    <tr>\n",
              "      <th>3</th>\n",
              "      <td>55</td>\n",
              "      <td>services</td>\n",
              "      <td>married</td>\n",
              "      <td>secondary</td>\n",
              "      <td>no</td>\n",
              "      <td>2476</td>\n",
              "      <td>yes</td>\n",
              "      <td>no</td>\n",
              "      <td>unknown</td>\n",
              "      <td>5</td>\n",
              "      <td>may</td>\n",
              "      <td>579</td>\n",
              "      <td>1</td>\n",
              "      <td>-1</td>\n",
              "      <td>0</td>\n",
              "      <td>unknown</td>\n",
              "      <td>yes</td>\n",
              "    </tr>\n",
              "    <tr>\n",
              "      <th>4</th>\n",
              "      <td>54</td>\n",
              "      <td>admin.</td>\n",
              "      <td>married</td>\n",
              "      <td>tertiary</td>\n",
              "      <td>no</td>\n",
              "      <td>184</td>\n",
              "      <td>no</td>\n",
              "      <td>no</td>\n",
              "      <td>unknown</td>\n",
              "      <td>5</td>\n",
              "      <td>may</td>\n",
              "      <td>673</td>\n",
              "      <td>2</td>\n",
              "      <td>-1</td>\n",
              "      <td>0</td>\n",
              "      <td>unknown</td>\n",
              "      <td>yes</td>\n",
              "    </tr>\n",
              "  </tbody>\n",
              "</table>\n",
              "</div>"
            ],
            "text/plain": [
              "   age         job  marital  education  ... pdays  previous poutcome deposit\n",
              "0   59      admin.  married  secondary  ...    -1         0  unknown     yes\n",
              "1   56      admin.  married  secondary  ...    -1         0  unknown     yes\n",
              "2   41  technician  married  secondary  ...    -1         0  unknown     yes\n",
              "3   55    services  married  secondary  ...    -1         0  unknown     yes\n",
              "4   54      admin.  married   tertiary  ...    -1         0  unknown     yes\n",
              "\n",
              "[5 rows x 17 columns]"
            ]
          },
          "metadata": {},
          "execution_count": 60
        }
      ]
    },
    {
      "cell_type": "code",
      "metadata": {
        "id": "quKX_2yz_Vq3"
      },
      "source": [
        "#encode categoricals\n",
        "le = preprocessing.LabelEncoder()\n",
        "\n",
        "df.job = le.fit_transform(df.job)\n",
        "df.marital = le.fit_transform(df.marital)\n",
        "df.education = le.fit_transform(df.education)\n",
        "df.default = le.fit_transform(df.default)\n",
        "df.housing = le.fit_transform(df.housing)\n",
        "df.loan = le.fit_transform(df.loan)\n",
        "df.contact = le.fit_transform(df.contact)\n",
        "df.month = le.fit_transform(df.month)\n",
        "df.poutcome = le.fit_transform(df.poutcome)\n",
        "df.deposit = le.fit_transform(df.deposit)\n"
      ],
      "execution_count": 61,
      "outputs": []
    },
    {
      "cell_type": "code",
      "metadata": {
        "id": "gSMRdnFpBsON"
      },
      "source": [
        "#split\n",
        "\n",
        "X = df.iloc[:,0:16]\n",
        "y = df.iloc[:,16]\n",
        "\n",
        "x_train, x_test, y_train, y_test = model_selection.train_test_split(X, y, test_size=0.2, random_state=0) #80/20 split"
      ],
      "execution_count": 62,
      "outputs": []
    },
    {
      "cell_type": "code",
      "metadata": {
        "id": "T3WWmnwsnR7P"
      },
      "source": [
        "# split training set into training and validation\n",
        "X_train_NN , X_val_NN , y_train_NN , y_val_NN = train_test_split(x_train, y_train, test_size=0.1)"
      ],
      "execution_count": 65,
      "outputs": []
    },
    {
      "cell_type": "code",
      "metadata": {
        "colab": {
          "base_uri": "https://localhost:8080/"
        },
        "id": "DxLcXmREHdGF",
        "outputId": "7f5a618b-46d9-4165-f6d4-88434438ecc1"
      },
      "source": [
        "X_train_NN.shape, y_train_NN.shape"
      ],
      "execution_count": 70,
      "outputs": [
        {
          "output_type": "execute_result",
          "data": {
            "text/plain": [
              "((8036, 16), (8036,))"
            ]
          },
          "metadata": {},
          "execution_count": 70
        }
      ]
    },
    {
      "cell_type": "code",
      "metadata": {
        "id": "fiRpTL_REhhf"
      },
      "source": [
        "# Building the model \n",
        "from keras.models import Sequential\n",
        "from keras.layers.core import Dense, Dropout, Activation\n",
        "model = Sequential()\n",
        "model.add(Dense(64, activation='sigmoid', input_shape=(16,)))\n",
        "model.add(Dropout(.2))\n",
        "model.add(Dense(1, activation='sigmoid'))"
      ],
      "execution_count": 95,
      "outputs": []
    },
    {
      "cell_type": "code",
      "metadata": {
        "id": "8Wn31FpuhaXg"
      },
      "source": [
        "model.compile(loss='binary_crossentropy',\n",
        "              optimizer='adam',\n",
        "              metrics=['accuracy'])"
      ],
      "execution_count": 96,
      "outputs": []
    },
    {
      "cell_type": "code",
      "metadata": {
        "colab": {
          "base_uri": "https://localhost:8080/"
        },
        "id": "KVenC7wAEnwX",
        "outputId": "64a2f878-11c0-443c-c219-d53e42627fd5"
      },
      "source": [
        "history = model.fit(X_train_NN, y_train_NN, \n",
        "          validation_data=(X_val_NN, y_val_NN),\n",
        "          epochs=20, batch_size=40,  \n",
        "          verbose=1\n",
        "      )\n",
        "\n"
      ],
      "execution_count": 97,
      "outputs": [
        {
          "output_type": "stream",
          "text": [
            "Epoch 1/20\n",
            "201/201 [==============================] - 1s 3ms/step - loss: 0.6651 - accuracy: 0.5869 - val_loss: 0.6064 - val_accuracy: 0.6506\n",
            "Epoch 2/20\n",
            "201/201 [==============================] - 0s 2ms/step - loss: 0.5758 - accuracy: 0.7063 - val_loss: 0.5446 - val_accuracy: 0.7368\n",
            "Epoch 3/20\n",
            "201/201 [==============================] - 0s 2ms/step - loss: 0.5460 - accuracy: 0.7245 - val_loss: 0.5194 - val_accuracy: 0.7436\n",
            "Epoch 4/20\n",
            "201/201 [==============================] - 0s 2ms/step - loss: 0.5280 - accuracy: 0.7410 - val_loss: 0.5220 - val_accuracy: 0.7447\n",
            "Epoch 5/20\n",
            "201/201 [==============================] - 0s 2ms/step - loss: 0.5206 - accuracy: 0.7440 - val_loss: 0.5082 - val_accuracy: 0.7492\n",
            "Epoch 6/20\n",
            "201/201 [==============================] - 0s 2ms/step - loss: 0.5142 - accuracy: 0.7464 - val_loss: 0.5005 - val_accuracy: 0.7648\n",
            "Epoch 7/20\n",
            "201/201 [==============================] - 0s 2ms/step - loss: 0.5046 - accuracy: 0.7549 - val_loss: 0.5066 - val_accuracy: 0.7626\n",
            "Epoch 8/20\n",
            "201/201 [==============================] - 0s 2ms/step - loss: 0.5071 - accuracy: 0.7547 - val_loss: 0.5110 - val_accuracy: 0.7559\n",
            "Epoch 9/20\n",
            "201/201 [==============================] - 0s 2ms/step - loss: 0.5085 - accuracy: 0.7531 - val_loss: 0.5066 - val_accuracy: 0.7660\n",
            "Epoch 10/20\n",
            "201/201 [==============================] - 0s 2ms/step - loss: 0.5071 - accuracy: 0.7578 - val_loss: 0.5044 - val_accuracy: 0.7604\n",
            "Epoch 11/20\n",
            "201/201 [==============================] - 0s 2ms/step - loss: 0.5011 - accuracy: 0.7585 - val_loss: 0.4955 - val_accuracy: 0.7716\n",
            "Epoch 12/20\n",
            "201/201 [==============================] - 0s 2ms/step - loss: 0.5050 - accuracy: 0.7588 - val_loss: 0.4945 - val_accuracy: 0.7704\n",
            "Epoch 13/20\n",
            "201/201 [==============================] - 0s 2ms/step - loss: 0.4982 - accuracy: 0.7577 - val_loss: 0.4946 - val_accuracy: 0.7749\n",
            "Epoch 14/20\n",
            "201/201 [==============================] - 0s 2ms/step - loss: 0.4965 - accuracy: 0.7643 - val_loss: 0.4930 - val_accuracy: 0.7682\n",
            "Epoch 15/20\n",
            "201/201 [==============================] - 0s 2ms/step - loss: 0.4963 - accuracy: 0.7670 - val_loss: 0.4946 - val_accuracy: 0.7682\n",
            "Epoch 16/20\n",
            "201/201 [==============================] - 0s 2ms/step - loss: 0.5039 - accuracy: 0.7586 - val_loss: 0.4944 - val_accuracy: 0.7693\n",
            "Epoch 17/20\n",
            "201/201 [==============================] - 0s 2ms/step - loss: 0.4961 - accuracy: 0.7608 - val_loss: 0.4819 - val_accuracy: 0.7749\n",
            "Epoch 18/20\n",
            "201/201 [==============================] - 0s 2ms/step - loss: 0.4993 - accuracy: 0.7627 - val_loss: 0.4886 - val_accuracy: 0.7704\n",
            "Epoch 19/20\n",
            "201/201 [==============================] - 0s 2ms/step - loss: 0.4931 - accuracy: 0.7626 - val_loss: 0.4871 - val_accuracy: 0.7693\n",
            "Epoch 20/20\n",
            "201/201 [==============================] - 0s 2ms/step - loss: 0.4925 - accuracy: 0.7622 - val_loss: 0.4776 - val_accuracy: 0.7760\n"
          ],
          "name": "stdout"
        }
      ]
    },
    {
      "cell_type": "code",
      "metadata": {
        "id": "L_kofH-cEqBZ",
        "colab": {
          "base_uri": "https://localhost:8080/"
        },
        "outputId": "ca9bf622-0def-4182-8cb5-e57275614c0c"
      },
      "source": [
        "score = model.evaluate(x_test, y_test, verbose=0)\n",
        "print('Test accuracy:', score[1])"
      ],
      "execution_count": 99,
      "outputs": [
        {
          "output_type": "stream",
          "text": [
            "Test accuracy: 0.7671294212341309\n"
          ],
          "name": "stdout"
        }
      ]
    },
    {
      "cell_type": "code",
      "metadata": {
        "colab": {
          "base_uri": "https://localhost:8080/",
          "height": 295
        },
        "id": "MgAwXlMjjN-G",
        "outputId": "f80583c8-ed39-4d29-8de0-d321c7f891c3"
      },
      "source": [
        "# summarize history for accuracy\n",
        "plt.plot(history.history['accuracy'])\n",
        "plt.plot(history.history['val_accuracy'])\n",
        "plt.title('model accuracy')\n",
        "plt.ylabel('accuracy')\n",
        "plt.xlabel('epoch')\n",
        "plt.legend(['train', 'test'], loc='upper left')\n",
        "plt.show()"
      ],
      "execution_count": 100,
      "outputs": [
        {
          "output_type": "display_data",
          "data": {
            "image/png": "[encoded data removed]",
            "text/plain": [
              "<Figure size 432x288 with 1 Axes>"
            ]
          },
          "metadata": {
            "needs_background": "light"
          }
        }
      ]
    },
    {
      "cell_type": "code",
      "metadata": {
        "colab": {
          "base_uri": "https://localhost:8080/",
          "height": 295
        },
        "id": "-GcvT9zcjz1Q",
        "outputId": "48b5aa9f-50c4-48ef-b3fd-9c8a00fdbc05"
      },
      "source": [
        "# summarize history for loss\n",
        "plt.plot(history.history['loss'])\n",
        "plt.plot(history.history['val_loss'])\n",
        "plt.title('model loss')\n",
        "plt.ylabel('loss')\n",
        "plt.xlabel('epoch')\n",
        "plt.legend(['train', 'test'], loc='upper left')\n",
        "plt.show()"
      ],
      "execution_count": 101,
      "outputs": [
        {
          "output_type": "display_data",
          "data": {
            "image/png": "[encoded data removed]",
            "text/plain": [
              "<Figure size 432x288 with 1 Axes>"
            ]
          },
          "metadata": {
            "needs_background": "light"
          }
        }
      ]
    },
    {
      "cell_type": "code",
      "metadata": {
        "id": "fStRTxCkj2eg"
      },
      "source": [
        ""
      ],
      "execution_count": null,
      "outputs": []
    }
  ]
}